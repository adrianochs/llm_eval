{
 "cells": [
  {
   "cell_type": "markdown",
   "metadata": {},
   "source": [
    "# Tutorial: Guide to LLM Evals by Aparna Dhinakaran\n",
    "[Link](https://towardsdatascience.com/llm-evals-setup-and-the-metrics-that-matter-2cc27e8e35f3)\n",
    "\n",
    "In this tutorial, Aparna shows how to evaluate whether a LLM can class reference texts as relevant or not given a query. I.e. she is evauating RAG relevance.\n",
    "For example, if I ask an LLM how glaciers are formed, and we provide this LLM with a reference text about glaciers that explains how glacier texts are formed, then this LLM should class the reference text as relevant to the query."
   ]
  },
  {
   "cell_type": "code",
   "execution_count": null,
   "metadata": {},
   "outputs": [],
   "source": [
    "from phoenix.experimental.evals import (\n",
    "   RAG_RELEVANCY_PROMPT_TEMPLATE,\n",
    "   RAG_RELEVANCY_PROMPT_RAILS_MAP,\n",
    "   OpenAIModel,\n",
    "   download_benchmark_dataset,\n",
    "   llm_classify,\n",
    ")\n",
    "import tiktoken\n",
    "from sklearn.metrics import precision_recall_fscore_support\n",
    "from dotenv import load_dotenv\n",
    "import os\n",
    "\n",
    "# Load environment variables from .env file\n",
    "load_dotenv()"
   ]
  },
  {
   "cell_type": "code",
   "execution_count": null,
   "metadata": {},
   "outputs": [],
   "source": [
    "# Download a \"golden dataset\" built into Phoenix\n",
    "benchmark_dataset = download_benchmark_dataset(\n",
    "   task=\"binary-relevance-classification\", dataset_name=\"wiki_qa-train\"\n",
    ")"
   ]
  },
  {
   "cell_type": "code",
   "execution_count": null,
   "metadata": {},
   "outputs": [],
   "source": [
    "# let's have a a look at the benchmark dataset\n",
    "benchmark_dataset"
   ]
  },
  {
   "cell_type": "markdown",
   "metadata": {},
   "source": [
    "Okay, so I assume \"query_text\" is the query for your LLM, the \"document_text\" contains the reference text and \"relevant\" is the classification column."
   ]
  },
  {
   "cell_type": "code",
   "execution_count": null,
   "metadata": {},
   "outputs": [],
   "source": [
    "query_text = benchmark_dataset.iloc[0,2]\n",
    "document_text = benchmark_dataset.iloc[0,3]\n",
    "print(f\"\")"
   ]
  },
  {
   "cell_type": "code",
   "execution_count": null,
   "metadata": {},
   "outputs": [],
   "source": [
    "RAG_RELEVANCY_PROMPT_TEMPLATE"
   ]
  },
  {
   "cell_type": "code",
   "execution_count": null,
   "metadata": {},
   "outputs": [],
   "source": [
    "RAG_RELEVANCY_PROMPT_RAILS_MAP.values()"
   ]
  },
  {
   "cell_type": "code",
   "execution_count": null,
   "metadata": {},
   "outputs": [],
   "source": [
    "# Any general purpose LLM should work here, but it is best practice to keep the temperature at 0\n",
    "model = OpenAIModel(\n",
    "   model=\"gpt-4\",\n",
    "   temperature=0.0,\n",
    ")"
   ]
  },
  {
   "cell_type": "code",
   "execution_count": null,
   "metadata": {},
   "outputs": [],
   "source": []
  }
 ],
 "metadata": {
  "kernelspec": {
   "display_name": "llm_eval",
   "language": "python",
   "name": "python3"
  },
  "language_info": {
   "codemirror_mode": {
    "name": "ipython",
    "version": 3
   },
   "file_extension": ".py",
   "mimetype": "text/x-python",
   "name": "python",
   "nbconvert_exporter": "python",
   "pygments_lexer": "ipython3",
   "version": "3.12.2"
  }
 },
 "nbformat": 4,
 "nbformat_minor": 2
}
