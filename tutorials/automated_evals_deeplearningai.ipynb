{
 "cells": [
  {
   "cell_type": "markdown",
   "metadata": {},
   "source": [
    "# Automated Teseting for LLMOps\n",
    "This notebook follows the deepleraning.ai [.](https://learn.deeplearning.ai/courses/automated-testing-llmops/lesson/1/introduction)\n",
    "By Rob Zuber from circleci.\n",
    "\n",
    "*Goal:* \n",
    "- run tests whenever you commit changes to your code base. \n",
    "- Combine per-commit and pre-release evals.\n",
    "- detect hallcinations in LLM responses.\n",
    "\n",
    "## Rule-based evals\n",
    "- Use string or pattern matching. E.g. regulat expression matching.\n",
    "- Use whenever you evaluate outputs with a clear right answer, e.g. sentiment classification where you have ground trouth labels.\n",
    "- Fast and cheap to run - good to run per-commit.\n",
    "\n",
    "## Model graded evals\n",
    "- Whenever there are many possible good or bad outputs, e.g. LLM writing text content for you there are potenitally many high quality responses.\n",
    "- You use an evaluation LLM to evaluate your application LLM.\n",
    "- More expansive to run - good fro pre-release."
   ]
  },
  {
   "cell_type": "markdown",
   "metadata": {},
   "source": [
    "## Introduction to Continuous Integration (CI)\n",
    "CI means to test your code everytime you make a change/feature contribution to avoid merging buggy code."
   ]
  },
  {
   "cell_type": "markdown",
   "metadata": {},
   "source": [
    "## Overiview of automated evals\n",
    "There are general benchmarks like MMLU or HellaSwag, but it is often necessary to build your own\n",
    "evaluation for a specific use case.\n",
    "\n",
    "What should you evaluate?\n",
    "- context adherence\n",
    "- context relevance\n",
    "- correctness\n",
    "- bias and toxicity\n",
    "\n",
    "When should you evalute?\n",
    "- After every change (bug fixes, feature updates, data changes)\n",
    "- Pre-deployment (merges to production branch, end of sprint, prior to shipping hotfix)\n",
    "- Post-deployment (on demand based on business needs)\n",
    "\n",
    "### The task\n",
    "Create a quiz generater application."
   ]
  },
  {
   "cell_type": "code",
   "execution_count": null,
   "metadata": {},
   "outputs": [],
   "source": []
  },
  {
   "cell_type": "code",
   "execution_count": null,
   "metadata": {},
   "outputs": [],
   "source": []
  }
 ],
 "metadata": {
  "kernelspec": {
   "display_name": "llm_eval",
   "language": "python",
   "name": "python3"
  },
  "language_info": {
   "name": "python",
   "version": "3.12.2"
  }
 },
 "nbformat": 4,
 "nbformat_minor": 2
}
